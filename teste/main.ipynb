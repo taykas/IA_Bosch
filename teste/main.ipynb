{
 "cells": [
  {
   "cell_type": "code",
   "execution_count": 40,
   "id": "50f2971c",
   "metadata": {},
   "outputs": [],
   "source": [
    "import numpy as np\n",
    "import pandas as pd \n",
    "\n",
    "lista = []\n",
    "import os\n",
    "for dirname, _, filenames in os.walk('db'):\n",
    "    for filename in filenames:\n",
    "        lista.append(os.path.join(dirname, filename))"
   ]
  },
  {
   "cell_type": "code",
   "execution_count": 41,
   "id": "54cdde74",
   "metadata": {},
   "outputs": [],
   "source": [
    "dfs = []\n",
    "for item in lista:\n",
    "    df = pd.read_csv(item)\n",
    "    dfs.append(df)\n",
    "df = pd.concat(dfs)"
   ]
  },
  {
   "cell_type": "code",
   "execution_count": null,
   "id": "0258cb00",
   "metadata": {},
   "outputs": [],
   "source": [
    "print(df)"
   ]
  },
  {
   "cell_type": "code",
   "execution_count": null,
   "id": "71d83529",
   "metadata": {},
   "outputs": [],
   "source": [
    "df['Year'].unique()"
   ]
  },
  {
   "cell_type": "code",
   "execution_count": null,
   "id": "5c93ec1f",
   "metadata": {},
   "outputs": [],
   "source": [
    "col = df.columns.get_loc('Script Type')\n",
    "\n",
    "df['Script Type'] = df['Script Type'].fillna('unknown')\n",
    "for i in range(len(df)):\n",
    "    value = df.iloc[i, col]\n",
    "\n",
    "    if 'original' in value:\n",
    "        value = 'original'\n",
    "    elif 'sequel' in value:\n",
    "        value = 'sequel'\n",
    "    elif 'true story' in value or 'documentary' in value:\n",
    "        value = 'real'\n",
    "    elif 'remake' in value:\n",
    "        value = 'remake'\n",
    "    elif 'prequel' in value:\n",
    "        value = 'prequel'\n",
    "    else:\n",
    "        value = 'unknown'\n",
    "\n",
    "    df.iloc[i, col] = value\n",
    "\n",
    "df['Script Type'].unique()"
   ]
  },
  {
   "cell_type": "code",
   "execution_count": null,
   "id": "acdafc7e",
   "metadata": {},
   "outputs": [],
   "source": [
    "df[['Year', 'Script Type', 'Rotten Tomatoes  critics', 'Metacritic  critics', 'Average audience ', 'Worldwide Gross ($million)', 'Budget ($million)', 'Primary Genre']]"
   ]
  },
  {
   "cell_type": "code",
   "execution_count": null,
   "id": "8386cf66",
   "metadata": {},
   "outputs": [],
   "source": [
    "col = df.columns.get_loc('Rotten Tomatoes  critics')\n",
    "\n",
    "\n",
    "\n",
    "df['Rotten Tomatoes  critics'] = df['Rotten Tomatoes  critics'].fillna('')\n",
    "for i in range(len(df)):\n",
    "    value = df.iloc[i, col]\n",
    "\n",
    "df.iloc[i, col] = value\n",
    "\n",
    "df['Rotten Tomatoes  critics'].unique()"
   ]
  },
  {
   "cell_type": "code",
   "execution_count": 48,
   "id": "0ae993a8",
   "metadata": {},
   "outputs": [
    {
     "data": {
      "text/plain": [
       "Rotten Tomatoes  critics\n",
       "85    30\n",
       "94    29\n",
       "93    29\n",
       "83    28\n",
       "92    28\n",
       "      ..\n",
       "52     1\n",
       "1      1\n",
       "13     1\n",
       "33     1\n",
       "27     1\n",
       "Name: count, Length: 190, dtype: int64"
      ]
     },
     "execution_count": 48,
     "metadata": {},
     "output_type": "execute_result"
    }
   ],
   "source": [
    "df['Rotten Tomatoes  critics'].value_counts()"
   ]
  }
 ],
 "metadata": {
  "kernelspec": {
   "display_name": "Python 3",
   "language": "python",
   "name": "python3"
  },
  "language_info": {
   "codemirror_mode": {
    "name": "ipython",
    "version": 3
   },
   "file_extension": ".py",
   "mimetype": "text/x-python",
   "name": "python",
   "nbconvert_exporter": "python",
   "pygments_lexer": "ipython3",
   "version": "3.12.1"
  }
 },
 "nbformat": 4,
 "nbformat_minor": 5
}
