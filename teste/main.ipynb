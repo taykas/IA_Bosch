{
 "cells": [
  {
   "cell_type": "code",
   "execution_count": 22,
   "id": "50f2971c",
   "metadata": {},
   "outputs": [],
   "source": [
    "import numpy as np\n",
    "import pandas as pd \n",
    "\n",
    "lista = []\n",
    "import os\n",
    "for dirname, _, filenames in os.walk('db'):\n",
    "    for filename in filenames:\n",
    "        lista.append(os.path.join(dirname, filename))"
   ]
  },
  {
   "cell_type": "code",
   "execution_count": 23,
   "id": "54cdde74",
   "metadata": {},
   "outputs": [],
   "source": [
    "dfs = []\n",
    "for item in lista:\n",
    "    df = pd.read_csv(item)\n",
    "    dfs.append(df)\n",
    "df = pd.concat(dfs)"
   ]
  },
  {
   "cell_type": "code",
   "execution_count": null,
   "id": "0258cb00",
   "metadata": {},
   "outputs": [],
   "source": [
    "print(df)"
   ]
  },
  {
   "cell_type": "code",
   "execution_count": null,
   "id": "71d83529",
   "metadata": {},
   "outputs": [],
   "source": [
    "df['Year'].unique()"
   ]
  },
  {
   "cell_type": "code",
   "execution_count": 26,
   "id": "5c93ec1f",
   "metadata": {},
   "outputs": [
    {
     "data": {
      "text/plain": [
       "array(['adaptation', 'remake', 'original screenplay', 'sequel',\n",
       "       'based on a true story', 'documentary', 'sequel, adaptation',\n",
       "       'remake / reboot', 'remake / reboot, adaptation', 'sequel ',\n",
       "       'based on a true story ', 'adaptation, remake / reboot',\n",
       "       'original screenplay ', 'based on a true story, adaptation',\n",
       "       'prequel', 'adaptation, based on a true story',\n",
       "       'adaptation, sequel', 'semi-sequel',\n",
       "       'based on a true story, remake', nan], dtype=object)"
      ]
     },
     "execution_count": 26,
     "metadata": {},
     "output_type": "execute_result"
    }
   ],
   "source": [
    "df['Script Type'].unique()"
   ]
  }
 ],
 "metadata": {
  "kernelspec": {
   "display_name": "Python 3",
   "language": "python",
   "name": "python3"
  },
  "language_info": {
   "codemirror_mode": {
    "name": "ipython",
    "version": 3
   },
   "file_extension": ".py",
   "mimetype": "text/x-python",
   "name": "python",
   "nbconvert_exporter": "python",
   "pygments_lexer": "ipython3",
   "version": "3.12.1"
  }
 },
 "nbformat": 4,
 "nbformat_minor": 5
}
